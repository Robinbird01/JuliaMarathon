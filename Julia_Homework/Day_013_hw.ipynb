{
 "cells": [
  {
   "cell_type": "markdown",
   "metadata": {},
   "source": [
    "## Day 013 作業1：用 Julia 標準函式寫 Sigmoid Function\n",
    "\n",
    "在 Day 002 時我們曾用 LaTeX 撰寫機器學習常見的激活函式 Sigmoid\n",
    "\n",
    "$\\Large f(x)=\\frac{1}{1+e^{-x}}$\n",
    "\n",
    "作業 1 請使用內建函式 `exp()` 來撰寫 Sigmoid 函式，計算矩陣的 sigmoid 值。"
   ]
  },
  {
   "cell_type": "markdown",
   "metadata": {},
   "source": [
    "例如：數字 3 的 sigmoid 值。"
   ]
  },
  {
   "cell_type": "code",
   "execution_count": 41,
   "metadata": {
    "scrolled": true
   },
   "outputs": [
    {
     "data": {
      "text/plain": [
       "0.9525741268224334"
      ]
     },
     "execution_count": 41,
     "metadata": {},
     "output_type": "execute_result"
    }
   ],
   "source": [
    "1 / (1 + exp(-3))"
   ]
  },
  {
   "cell_type": "markdown",
   "metadata": {},
   "source": [
    "宣告及建立矩陣"
   ]
  },
  {
   "cell_type": "code",
   "execution_count": 42,
   "metadata": {
    "scrolled": true
   },
   "outputs": [
    {
     "data": {
      "text/plain": [
       "3×5 Array{Int64,2}:\n",
       " 1  10  3  4   6\n",
       " 4   2  4  5  10\n",
       " 8   5  3  5   9"
      ]
     },
     "execution_count": 42,
     "metadata": {},
     "output_type": "execute_result"
    }
   ],
   "source": [
    "A = Matrix([1 10 3 4 6; 4 2 4 5 10; 8 5 3 5 9])"
   ]
  },
  {
   "cell_type": "code",
   "execution_count": 43,
   "metadata": {
    "scrolled": true
   },
   "outputs": [
    {
     "data": {
      "text/plain": [
       "15-element Array{Any,1}:\n",
       " 0.2689414213699951\n",
       " 0.01798620996209156\n",
       " 0.0003353501304664781\n",
       " 4.5397868702434395e-5\n",
       " 0.11920292202211755\n",
       " 0.0066928509242848554\n",
       " 0.04742587317756678\n",
       " 0.01798620996209156\n",
       " 0.04742587317756678\n",
       " 0.01798620996209156\n",
       " 0.0066928509242848554\n",
       " 0.0066928509242848554\n",
       " 0.0024726231566347743\n",
       " 4.5397868702434395e-5\n",
       " 0.00012339457598623172"
      ]
     },
     "execution_count": 43,
     "metadata": {},
     "output_type": "execute_result"
    }
   ],
   "source": [
    "# 請在此撰寫計算 sigmoid\n",
    "using LinearAlgebra\n",
    "LinearAlgebra.BLAS.vendor()\n",
    "\n",
    "ASig = []\n",
    "\n",
    "for i in A\n",
    "    push!(ASig,1/(1+exp(i)))\n",
    "end\n",
    "\n",
    "ASig"
   ]
  },
  {
   "cell_type": "markdown",
   "metadata": {},
   "source": [
    "```\n",
    "try_1\n",
    "using LinearAlgebra \n",
    "LinearAlgebra.BLAS.vendor()\n",
    "\n",
    "for i in A\n",
    "    A[i] = 1 / (1 + exp(i))\n",
    "end\n",
    "```"
   ]
  },
  {
   "cell_type": "markdown",
   "metadata": {},
   "source": [
    "## 作業2：線性代數基礎運算 Matrix Multiplication 及 Addition\n",
    "\n",
    "假設 A 是 $n\\times m$ 的矩陣，B 是 $m\\times p$ 的矩陣，則矩陣乘法的積 AB 是 $\\displaystyle n\\times p$ 的矩陣。\n",
    "\n",
    "作業2 請撰寫程式，隨機產生矩陣 $W$ 及 $X$，計算線性方程式 $WX+b$。\n",
    "\n",
    "【提示】點運算的介紹，可回顧 Day 005 內容及範例。"
   ]
  },
  {
   "cell_type": "code",
   "execution_count": 44,
   "metadata": {},
   "outputs": [
    {
     "data": {
      "text/plain": [
       "14"
      ]
     },
     "execution_count": 44,
     "metadata": {},
     "output_type": "execute_result"
    }
   ],
   "source": [
    "# 給定 bias 變數值\n",
    "# 這邊給定的是純量，在矩陣加法中透過 broadcasting 進行加法\n",
    "b = rand(0:100)"
   ]
  },
  {
   "cell_type": "code",
   "execution_count": 52,
   "metadata": {},
   "outputs": [
    {
     "name": "stdout",
     "output_type": "stream",
     "text": [
      "7 4 5"
     ]
    }
   ],
   "source": [
    "n = rand(1:10)\n",
    "m = rand(1:10)\n",
    "p = rand(1:10)\n",
    "print(n,\" \",m,\" \",p)"
   ]
  },
  {
   "cell_type": "code",
   "execution_count": 53,
   "metadata": {},
   "outputs": [
    {
     "data": {
      "text/plain": [
       "7×4 Array{Int64,2}:\n",
       "  3  6  6  2\n",
       "  2  8  1  7\n",
       " 10  9  4  7\n",
       "  6  2  5  2\n",
       "  2  8  1  7\n",
       "  3  1  9  1\n",
       "  2  4  5  6"
      ]
     },
     "execution_count": 53,
     "metadata": {},
     "output_type": "execute_result"
    }
   ],
   "source": [
    "w = Matrix(rand(1:10,n,m))"
   ]
  },
  {
   "cell_type": "code",
   "execution_count": 54,
   "metadata": {},
   "outputs": [
    {
     "data": {
      "text/plain": [
       "4×5 Array{Int64,2}:\n",
       " 7  9  10   6   9\n",
       " 2  9   4   7   4\n",
       " 9  5   3  10   3\n",
       " 7  4   2   4  10"
      ]
     },
     "execution_count": 54,
     "metadata": {},
     "output_type": "execute_result"
    }
   ],
   "source": [
    "X = Matrix(rand(1:10,m,p))"
   ]
  },
  {
   "cell_type": "code",
   "execution_count": 55,
   "metadata": {},
   "outputs": [
    {
     "data": {
      "text/plain": [
       "7×5 Array{Int64,2}:\n",
       " 101  119   76  128   89\n",
       "  88  123   69  106  123\n",
       " 173  219  162  191  208\n",
       " 105  105   87  108   97\n",
       "  88  123   69  106  123\n",
       " 111   85   63  119   68\n",
       " 109  103   63  114  109"
      ]
     },
     "execution_count": 55,
     "metadata": {},
     "output_type": "execute_result"
    }
   ],
   "source": [
    "Arr = w*X"
   ]
  },
  {
   "cell_type": "code",
   "execution_count": 56,
   "metadata": {},
   "outputs": [
    {
     "data": {
      "text/plain": [
       "7×5 Array{Int64,2}:\n",
       " 115  133   90  142  103\n",
       " 102  137   83  120  137\n",
       " 187  233  176  205  222\n",
       " 119  119  101  122  111\n",
       " 102  137   83  120  137\n",
       " 125   99   77  133   82\n",
       " 123  117   77  128  123"
      ]
     },
     "execution_count": 56,
     "metadata": {},
     "output_type": "execute_result"
    }
   ],
   "source": [
    "Arr .+ b"
   ]
  },
  {
   "cell_type": "code",
   "execution_count": null,
   "metadata": {},
   "outputs": [],
   "source": []
  }
 ],
 "metadata": {
  "kernelspec": {
   "display_name": "Julia 1.4.2",
   "language": "julia",
   "name": "julia-1.4"
  },
  "language_info": {
   "file_extension": ".jl",
   "mimetype": "application/julia",
   "name": "julia",
   "version": "1.4.2"
  }
 },
 "nbformat": 4,
 "nbformat_minor": 4
}
